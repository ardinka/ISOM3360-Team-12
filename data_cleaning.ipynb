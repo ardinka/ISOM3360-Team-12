{
 "cells": [
  {
   "cell_type": "code",
   "execution_count": 45,
   "metadata": {},
   "outputs": [],
   "source": [
    "# import libraries\n",
    "import numpy as np\n",
    "import pandas as pd\n",
    "from sklearn import preprocessing\n",
    "from sklearn.tree import DecisionTreeClassifier\n",
    "from sklearn import tree\n",
    "from matplotlib import pyplot as plt\n",
    "from sklearn.model_selection import train_test_split\n",
    "from sklearn.metrics import accuracy_score\n",
    "from sklearn.metrics import classification_report\n",
    "from sklearn.metrics import confusion_matrix\n",
    "from sklearn import metrics\n",
    "from sklearn.model_selection import GridSearchCV\n",
    "import datetime"
   ]
  },
  {
   "cell_type": "code",
   "execution_count": 46,
   "metadata": {},
   "outputs": [],
   "source": [
    "# load training dataset\n",
    "hotel_booking = pd.read_csv('hotel_booking.csv')"
   ]
  },
  {
   "cell_type": "code",
   "execution_count": 47,
   "metadata": {},
   "outputs": [],
   "source": [
    "hotel_booking_df = hotel_booking.copy()"
   ]
  },
  {
   "cell_type": "code",
   "execution_count": 48,
   "metadata": {},
   "outputs": [
    {
     "name": "stdout",
     "output_type": "stream",
     "text": [
      "<class 'pandas.core.frame.DataFrame'>\n",
      "RangeIndex: 119390 entries, 0 to 119389\n",
      "Data columns (total 36 columns):\n",
      " #   Column                          Non-Null Count   Dtype  \n",
      "---  ------                          --------------   -----  \n",
      " 0   hotel                           119390 non-null  object \n",
      " 1   is_canceled                     119390 non-null  int64  \n",
      " 2   lead_time                       119390 non-null  int64  \n",
      " 3   arrival_date_year               119390 non-null  int64  \n",
      " 4   arrival_date_month              119390 non-null  object \n",
      " 5   arrival_date_week_number        119390 non-null  int64  \n",
      " 6   arrival_date_day_of_month       119390 non-null  int64  \n",
      " 7   stays_in_weekend_nights         119390 non-null  int64  \n",
      " 8   stays_in_week_nights            119390 non-null  int64  \n",
      " 9   adults                          119390 non-null  int64  \n",
      " 10  children                        119386 non-null  float64\n",
      " 11  babies                          119390 non-null  int64  \n",
      " 12  meal                            119390 non-null  object \n",
      " 13  country                         118902 non-null  object \n",
      " 14  market_segment                  119390 non-null  object \n",
      " 15  distribution_channel            119390 non-null  object \n",
      " 16  is_repeated_guest               119390 non-null  int64  \n",
      " 17  previous_cancellations          119390 non-null  int64  \n",
      " 18  previous_bookings_not_canceled  119390 non-null  int64  \n",
      " 19  reserved_room_type              119390 non-null  object \n",
      " 20  assigned_room_type              119390 non-null  object \n",
      " 21  booking_changes                 119390 non-null  int64  \n",
      " 22  deposit_type                    119390 non-null  object \n",
      " 23  agent                           103050 non-null  float64\n",
      " 24  company                         6797 non-null    float64\n",
      " 25  days_in_waiting_list            119390 non-null  int64  \n",
      " 26  customer_type                   119390 non-null  object \n",
      " 27  adr                             119390 non-null  float64\n",
      " 28  required_car_parking_spaces     119390 non-null  int64  \n",
      " 29  total_of_special_requests       119390 non-null  int64  \n",
      " 30  reservation_status              119390 non-null  object \n",
      " 31  reservation_status_date         119390 non-null  object \n",
      " 32  name                            119390 non-null  object \n",
      " 33  email                           119390 non-null  object \n",
      " 34  phone-number                    119390 non-null  object \n",
      " 35  credit_card                     119390 non-null  object \n",
      "dtypes: float64(4), int64(16), object(16)\n",
      "memory usage: 32.8+ MB\n"
     ]
    }
   ],
   "source": [
    "hotel_booking_df.info()"
   ]
  },
  {
   "cell_type": "code",
   "execution_count": 49,
   "metadata": {},
   "outputs": [],
   "source": [
    "# drop unuseful columns\n",
    "drop_columns = ['arrival_date_year', 'name', 'email', 'phone-number', 'credit_card', 'agent', 'company', 'country']\n",
    "hotel_booking_df = hotel_booking_df.drop(columns=drop_columns)\n",
    "\n",
    "# transform categorical variables\n",
    "categorical_columns = ['hotel', 'meal', 'market_segment', 'distribution_channel', 'reserved_room_type', 'assigned_room_type', 'deposit_type', 'customer_type', 'reservation_status']\n",
    "hotel_booking_df = pd.get_dummies(hotel_booking_df, columns=categorical_columns, drop_first=True)\n",
    "\n",
    "# transform ordinal variables\n",
    "month_mapping = {\n",
    "    'January': 1, 'February': 2, 'March': 3, 'April': 4, 'May': 5, 'June': 6,\n",
    "    'July': 7, 'August': 8, 'September': 9, 'October': 10, 'November': 11, 'December': 12\n",
    "}\n",
    "hotel_booking_df['arrival_date_month'] = hotel_booking_df['arrival_date_month'].map(month_mapping)\n",
    "\n",
    "# feature clipping\n",
    "hotel_booking_df['stays_in_weekend_nights'] = hotel_booking_df['stays_in_weekend_nights'].clip(0, 3)\n",
    "hotel_booking_df['stays_in_week_nights'] = hotel_booking_df['stays_in_week_nights'].clip(0, 5)\n",
    "hotel_booking_df['adults'] = hotel_booking_df['adults'].clip(0, 5)\n",
    "hotel_booking_df['children'] = hotel_booking_df['children'].clip(0, 2)\n",
    "hotel_booking_df['babies'] = hotel_booking_df['babies'].clip(0, 2)\n",
    "\n",
    "\n",
    "# Apply z-score normalization\n",
    "feature_col = [\n",
    "    'stays_in_weekend_nights',\n",
    "    'stays_in_week_nights',\n",
    "    'adults',\n",
    "    'children',\n",
    "    'babies',\n",
    "    'lead_time',\n",
    "    'previous_cancellations',\n",
    "    'previous_bookings_not_canceled',\n",
    "    'booking_changes',\n",
    "    'days_in_waiting_list',\n",
    "    'adr',\n",
    "    'required_car_parking_spaces',\n",
    "    'total_of_special_requests',\n",
    "    'arrival_date_month',\n",
    "    'arrival_date_week_number',\n",
    "    'arrival_date_day_of_month'\n",
    "]\n",
    "scaler = preprocessing.StandardScaler()\n",
    "\n",
    "for col in feature_col:\n",
    "    hotel_booking_df[col] = scaler.fit(hotel_booking_df[[col]]).transform(hotel_booking_df[[col]])\n",
    "\n",
    "# Apply min-max normalization\n",
    "\n",
    "\n",
    "\n",
    "# replace missing value with mode\n",
    "hotel_booking_df['children'].fillna(hotel_booking_df['children'].mode()[0], inplace = True)"
   ]
  },
  {
   "cell_type": "code",
   "execution_count": 50,
   "metadata": {},
   "outputs": [
    {
     "name": "stdout",
     "output_type": "stream",
     "text": [
      "required_car_parking_spaces\n",
      "-0.254873     111974\n",
      " 3.821932       7383\n",
      " 7.898737         28\n",
      " 11.975542         3\n",
      " 32.359567         2\n",
      "Name: count, dtype: int64\n"
     ]
    }
   ],
   "source": [
    "value_counts = hotel_booking_df['required_car_parking_spaces'].value_counts()\n",
    "print(value_counts)"
   ]
  },
  {
   "cell_type": "code",
   "execution_count": 51,
   "metadata": {},
   "outputs": [
    {
     "name": "stdout",
     "output_type": "stream",
     "text": [
      "<class 'pandas.core.frame.DataFrame'>\n",
      "RangeIndex: 119390 entries, 0 to 119389\n",
      "Data columns (total 62 columns):\n",
      " #   Column                          Non-Null Count   Dtype  \n",
      "---  ------                          --------------   -----  \n",
      " 0   is_canceled                     119390 non-null  int64  \n",
      " 1   lead_time                       119390 non-null  float64\n",
      " 2   arrival_date_month              119390 non-null  float64\n",
      " 3   arrival_date_week_number        119390 non-null  float64\n",
      " 4   arrival_date_day_of_month       119390 non-null  float64\n",
      " 5   stays_in_weekend_nights         119390 non-null  float64\n",
      " 6   stays_in_week_nights            119390 non-null  float64\n",
      " 7   adults                          119390 non-null  float64\n",
      " 8   children                        119390 non-null  float64\n",
      " 9   babies                          119390 non-null  float64\n",
      " 10  is_repeated_guest               119390 non-null  int64  \n",
      " 11  previous_cancellations          119390 non-null  float64\n",
      " 12  previous_bookings_not_canceled  119390 non-null  float64\n",
      " 13  booking_changes                 119390 non-null  float64\n",
      " 14  days_in_waiting_list            119390 non-null  float64\n",
      " 15  adr                             119390 non-null  float64\n",
      " 16  required_car_parking_spaces     119390 non-null  float64\n",
      " 17  total_of_special_requests       119390 non-null  float64\n",
      " 18  reservation_status_date         119390 non-null  object \n",
      " 19  hotel_Resort Hotel              119390 non-null  bool   \n",
      " 20  meal_FB                         119390 non-null  bool   \n",
      " 21  meal_HB                         119390 non-null  bool   \n",
      " 22  meal_SC                         119390 non-null  bool   \n",
      " 23  meal_Undefined                  119390 non-null  bool   \n",
      " 24  market_segment_Complementary    119390 non-null  bool   \n",
      " 25  market_segment_Corporate        119390 non-null  bool   \n",
      " 26  market_segment_Direct           119390 non-null  bool   \n",
      " 27  market_segment_Groups           119390 non-null  bool   \n",
      " 28  market_segment_Offline TA/TO    119390 non-null  bool   \n",
      " 29  market_segment_Online TA        119390 non-null  bool   \n",
      " 30  market_segment_Undefined        119390 non-null  bool   \n",
      " 31  distribution_channel_Direct     119390 non-null  bool   \n",
      " 32  distribution_channel_GDS        119390 non-null  bool   \n",
      " 33  distribution_channel_TA/TO      119390 non-null  bool   \n",
      " 34  distribution_channel_Undefined  119390 non-null  bool   \n",
      " 35  reserved_room_type_B            119390 non-null  bool   \n",
      " 36  reserved_room_type_C            119390 non-null  bool   \n",
      " 37  reserved_room_type_D            119390 non-null  bool   \n",
      " 38  reserved_room_type_E            119390 non-null  bool   \n",
      " 39  reserved_room_type_F            119390 non-null  bool   \n",
      " 40  reserved_room_type_G            119390 non-null  bool   \n",
      " 41  reserved_room_type_H            119390 non-null  bool   \n",
      " 42  reserved_room_type_L            119390 non-null  bool   \n",
      " 43  reserved_room_type_P            119390 non-null  bool   \n",
      " 44  assigned_room_type_B            119390 non-null  bool   \n",
      " 45  assigned_room_type_C            119390 non-null  bool   \n",
      " 46  assigned_room_type_D            119390 non-null  bool   \n",
      " 47  assigned_room_type_E            119390 non-null  bool   \n",
      " 48  assigned_room_type_F            119390 non-null  bool   \n",
      " 49  assigned_room_type_G            119390 non-null  bool   \n",
      " 50  assigned_room_type_H            119390 non-null  bool   \n",
      " 51  assigned_room_type_I            119390 non-null  bool   \n",
      " 52  assigned_room_type_K            119390 non-null  bool   \n",
      " 53  assigned_room_type_L            119390 non-null  bool   \n",
      " 54  assigned_room_type_P            119390 non-null  bool   \n",
      " 55  deposit_type_Non Refund         119390 non-null  bool   \n",
      " 56  deposit_type_Refundable         119390 non-null  bool   \n",
      " 57  customer_type_Group             119390 non-null  bool   \n",
      " 58  customer_type_Transient         119390 non-null  bool   \n",
      " 59  customer_type_Transient-Party   119390 non-null  bool   \n",
      " 60  reservation_status_Check-Out    119390 non-null  bool   \n",
      " 61  reservation_status_No-Show      119390 non-null  bool   \n",
      "dtypes: bool(43), float64(16), int64(2), object(1)\n",
      "memory usage: 22.2+ MB\n"
     ]
    }
   ],
   "source": [
    "hotel_booking_df.info()"
   ]
  }
 ],
 "metadata": {
  "kernelspec": {
   "display_name": "base",
   "language": "python",
   "name": "python3"
  },
  "language_info": {
   "codemirror_mode": {
    "name": "ipython",
    "version": 3
   },
   "file_extension": ".py",
   "mimetype": "text/x-python",
   "name": "python",
   "nbconvert_exporter": "python",
   "pygments_lexer": "ipython3",
   "version": "3.11.7"
  }
 },
 "nbformat": 4,
 "nbformat_minor": 2
}
