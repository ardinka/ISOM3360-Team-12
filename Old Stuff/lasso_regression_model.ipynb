{
 "cells": [
  {
   "cell_type": "code",
   "execution_count": 33,
   "metadata": {
    "collapsed": true
   },
   "outputs": [],
   "source": [
    "# import libraries\n",
    "import numpy as np\n",
    "import pandas as pd\n",
    "from sklearn import preprocessing\n",
    "from sklearn.tree import DecisionTreeClassifier\n",
    "from sklearn import tree\n",
    "from matplotlib import pyplot as plt\n",
    "from sklearn.model_selection import train_test_split\n",
    "from sklearn.metrics import accuracy_score\n",
    "from sklearn.metrics import classification_report\n",
    "from sklearn.metrics import confusion_matrix\n",
    "from sklearn import metrics\n",
    "from sklearn.model_selection import GridSearchCV\n",
    "\n",
    "# import evluation matrix for regression\n",
    "from sklearn.metrics import r2_score\n",
    "from sklearn.metrics import mean_absolute_error\n",
    "from sklearn.metrics import mean_squared_error\n",
    "\n",
    "# import train_test_split and cross validation\n",
    "from sklearn.model_selection import train_test_split\n",
    "from sklearn.model_selection import cross_val_score\n",
    "from sklearn.model_selection import cross_val_predict\n",
    "\n",
    "# Import Lasso Model from sklearn\n",
    "from sklearn.linear_model import Lasso\n",
    "from sklearn.linear_model import Ridge\n",
    "import datetime"
   ]
  },
  {
   "cell_type": "code",
   "execution_count": 34,
   "outputs": [],
   "source": [
    "# load training dataset\n",
    "data = pd.read_csv('data.csv')"
   ],
   "metadata": {
    "collapsed": false
   }
  },
  {
   "cell_type": "code",
   "execution_count": 35,
   "outputs": [
    {
     "data": {
      "text/plain": "[' ROA(C) before interest and depreciation before interest',\n ' ROA(A) before interest and % after tax',\n ' ROA(B) before interest and depreciation after tax',\n ' Operating Gross Margin',\n ' Realized Sales Gross Margin',\n ' Operating Profit Rate',\n ' Pre-tax net Interest Rate',\n ' After-tax net Interest Rate',\n ' Non-industry income and expenditure/revenue',\n ' Continuous interest rate (after tax)',\n ' Operating Expense Rate',\n ' Research and development expense rate',\n ' Cash flow rate',\n ' Interest-bearing debt interest rate',\n ' Tax rate (A)',\n ' Net Value Per Share (B)',\n ' Net Value Per Share (A)',\n ' Net Value Per Share (C)',\n ' Persistent EPS in the Last Four Seasons',\n ' Cash Flow Per Share',\n ' Revenue Per Share (Yuan ¥)',\n ' Operating Profit Per Share (Yuan ¥)',\n ' Per Share Net profit before tax (Yuan ¥)',\n ' Realized Sales Gross Profit Growth Rate',\n ' Operating Profit Growth Rate',\n ' After-tax Net Profit Growth Rate',\n ' Regular Net Profit Growth Rate',\n ' Continuous Net Profit Growth Rate',\n ' Total Asset Growth Rate',\n ' Net Value Growth Rate',\n ' Total Asset Return Growth Rate Ratio',\n ' Cash Reinvestment %',\n ' Current Ratio',\n ' Quick Ratio',\n ' Interest Expense Ratio',\n ' Total debt/Total net worth',\n ' Debt ratio %',\n ' Net worth/Assets',\n ' Long-term fund suitability ratio (A)',\n ' Borrowing dependency',\n ' Contingent liabilities/Net worth',\n ' Operating profit/Paid-in capital',\n ' Net profit before tax/Paid-in capital',\n ' Inventory and accounts receivable/Net value',\n ' Total Asset Turnover',\n ' Accounts Receivable Turnover',\n ' Average Collection Days',\n ' Inventory Turnover Rate (times)',\n ' Fixed Assets Turnover Frequency',\n ' Net Worth Turnover Rate (times)',\n ' Revenue per person',\n ' Operating profit per person',\n ' Allocation rate per person',\n ' Working Capital to Total Assets',\n ' Quick Assets/Total Assets',\n ' Current Assets/Total Assets',\n ' Cash/Total Assets',\n ' Quick Assets/Current Liability',\n ' Cash/Current Liability',\n ' Current Liability to Assets',\n ' Operating Funds to Liability',\n ' Inventory/Working Capital',\n ' Inventory/Current Liability',\n ' Current Liabilities/Liability',\n ' Working Capital/Equity',\n ' Current Liabilities/Equity',\n ' Long-term Liability to Current Assets',\n ' Retained Earnings to Total Assets',\n ' Total income/Total expense',\n ' Total expense/Assets',\n ' Current Asset Turnover Rate',\n ' Quick Asset Turnover Rate',\n ' Working capitcal Turnover Rate',\n ' Cash Turnover Rate',\n ' Cash Flow to Sales',\n ' Fixed Assets to Assets',\n ' Current Liability to Liability',\n ' Current Liability to Equity',\n ' Equity to Long-term Liability',\n ' Cash Flow to Total Assets',\n ' Cash Flow to Liability',\n ' CFO to Assets',\n ' Cash Flow to Equity',\n ' Current Liability to Current Assets',\n ' Liability-Assets Flag',\n ' Net Income to Total Assets',\n ' Total assets to GNP price',\n ' No-credit Interval',\n ' Gross Profit to Sales',\n \" Net Income to Stockholder's Equity\",\n ' Liability to Equity',\n ' Degree of Financial Leverage (DFL)',\n ' Interest Coverage Ratio (Interest expense to EBIT)',\n ' Net Income Flag',\n ' Equity to Liability']"
     },
     "execution_count": 35,
     "metadata": {},
     "output_type": "execute_result"
    }
   ],
   "source": [
    "# split training and testing dataset\n",
    "features = list(data.columns[1:96])\n",
    "X = data[features]\n",
    "y = data['Bankrupt?']\n",
    "X_train, X_test, y_train, y_test = train_test_split(X, y, test_size=0.3, random_state=0)\n",
    "\n",
    "features"
   ],
   "metadata": {
    "collapsed": false
   }
  },
  {
   "cell_type": "code",
   "execution_count": 36,
   "outputs": [],
   "source": [
    "# Define model to be Lasso, set alpha=0.005 (alpha is the regularization parameter)\n",
    "# Define model to be Ridge, set alpha=0.005 (alpha is the regularization parameter)\n",
    "# https://scikit-learn.org/stable/modules/generated/sklearn.linear_model.Lasso.html\n",
    "# https://scikit-learn.org/stable/modules/generated/sklearn.linear_model.Ridge.html\n",
    "alpha_l1 = 0.5\n",
    "alpha_l2 = 0.5\n",
    "lasso = Lasso(alpha = alpha_l1)\n",
    "ridge = Ridge(alpha = alpha_l2)"
   ],
   "metadata": {
    "collapsed": false
   }
  },
  {
   "cell_type": "code",
   "execution_count": 37,
   "outputs": [
    {
     "name": "stderr",
     "output_type": "stream",
     "text": [
      "/opt/anaconda3/lib/python3.11/site-packages/sklearn/linear_model/_ridge.py:216: LinAlgWarning: Ill-conditioned matrix (rcond=3.44301e-24): result may not be accurate.\n",
      "  return linalg.solve(A, Xy, assume_a=\"pos\", overwrite_a=True).T\n",
      "/opt/anaconda3/lib/python3.11/site-packages/sklearn/linear_model/_ridge.py:216: LinAlgWarning: Ill-conditioned matrix (rcond=3.53619e-24): result may not be accurate.\n",
      "  return linalg.solve(A, Xy, assume_a=\"pos\", overwrite_a=True).T\n",
      "/opt/anaconda3/lib/python3.11/site-packages/sklearn/linear_model/_ridge.py:216: LinAlgWarning: Ill-conditioned matrix (rcond=3.42578e-24): result may not be accurate.\n",
      "  return linalg.solve(A, Xy, assume_a=\"pos\", overwrite_a=True).T\n",
      "/opt/anaconda3/lib/python3.11/site-packages/sklearn/linear_model/_ridge.py:216: LinAlgWarning: Ill-conditioned matrix (rcond=3.44536e-24): result may not be accurate.\n",
      "  return linalg.solve(A, Xy, assume_a=\"pos\", overwrite_a=True).T\n",
      "/opt/anaconda3/lib/python3.11/site-packages/sklearn/linear_model/_ridge.py:216: LinAlgWarning: Ill-conditioned matrix (rcond=3.17831e-24): result may not be accurate.\n",
      "  return linalg.solve(A, Xy, assume_a=\"pos\", overwrite_a=True).T\n",
      "/opt/anaconda3/lib/python3.11/site-packages/sklearn/linear_model/_ridge.py:216: LinAlgWarning: Ill-conditioned matrix (rcond=3.55362e-24): result may not be accurate.\n",
      "  return linalg.solve(A, Xy, assume_a=\"pos\", overwrite_a=True).T\n",
      "/opt/anaconda3/lib/python3.11/site-packages/sklearn/linear_model/_ridge.py:216: LinAlgWarning: Ill-conditioned matrix (rcond=3.45077e-24): result may not be accurate.\n",
      "  return linalg.solve(A, Xy, assume_a=\"pos\", overwrite_a=True).T\n",
      "/opt/anaconda3/lib/python3.11/site-packages/sklearn/linear_model/_ridge.py:216: LinAlgWarning: Ill-conditioned matrix (rcond=3.33239e-24): result may not be accurate.\n",
      "  return linalg.solve(A, Xy, assume_a=\"pos\", overwrite_a=True).T\n",
      "/opt/anaconda3/lib/python3.11/site-packages/sklearn/linear_model/_ridge.py:216: LinAlgWarning: Ill-conditioned matrix (rcond=3.44787e-24): result may not be accurate.\n",
      "  return linalg.solve(A, Xy, assume_a=\"pos\", overwrite_a=True).T\n",
      "/opt/anaconda3/lib/python3.11/site-packages/sklearn/linear_model/_ridge.py:216: LinAlgWarning: Ill-conditioned matrix (rcond=3.52772e-24): result may not be accurate.\n",
      "  return linalg.solve(A, Xy, assume_a=\"pos\", overwrite_a=True).T\n"
     ]
    }
   ],
   "source": [
    "score_lasso = cross_val_score(lasso, X_train, y_train, scoring = 'neg_mean_squared_error', cv=10)\n",
    "score_ridge = cross_val_score(ridge, X_train, y_train, scoring = 'neg_mean_squared_error', cv=10)"
   ],
   "metadata": {
    "collapsed": false
   }
  },
  {
   "cell_type": "code",
   "execution_count": 38,
   "outputs": [
    {
     "name": "stderr",
     "output_type": "stream",
     "text": [
      "/opt/anaconda3/lib/python3.11/site-packages/sklearn/linear_model/_ridge.py:216: LinAlgWarning: Ill-conditioned matrix (rcond=3.13709e-24): result may not be accurate.\n",
      "  return linalg.solve(A, Xy, assume_a=\"pos\", overwrite_a=True).T\n"
     ]
    }
   ],
   "source": [
    "lasso = lasso.fit(X_train,y_train)\n",
    "ridge = ridge.fit(X_train,y_train)"
   ],
   "metadata": {
    "collapsed": false
   }
  },
  {
   "cell_type": "code",
   "execution_count": 39,
   "outputs": [],
   "source": [
    "lasso_pred = lasso.predict(X_test)\n",
    "ridge_pred = ridge.predict(X_test)"
   ],
   "metadata": {
    "collapsed": false
   }
  },
  {
   "cell_type": "code",
   "execution_count": 40,
   "outputs": [
    {
     "name": "stdout",
     "output_type": "stream",
     "text": [
      "Lasso result\n",
      "-0.002146666426057653\n",
      "0.060760272998820045\n",
      "0.02806531403934483\n"
     ]
    }
   ],
   "source": [
    "R2 = r2_score(y_test, lasso_pred)\n",
    "MAE = mean_absolute_error(y_test, lasso_pred)\n",
    "MSE = mean_squared_error(y_test, lasso_pred)\n",
    "print (\"Lasso result\")\n",
    "print (R2)\n",
    "print (MAE)\n",
    "print (MSE)"
   ],
   "metadata": {
    "collapsed": false
   }
  },
  {
   "cell_type": "code",
   "execution_count": 41,
   "outputs": [
    {
     "name": "stdout",
     "output_type": "stream",
     "text": [
      "ridge result\n",
      "0.13277438408570708\n",
      "0.06719045391510517\n",
      "0.024286823544899448\n"
     ]
    }
   ],
   "source": [
    "R2 = r2_score(y_test, ridge_pred)\n",
    "MAE = mean_absolute_error(y_test, ridge_pred)\n",
    "MSE = mean_squared_error(y_test, ridge_pred)\n",
    "print (\"ridge result\")\n",
    "print (R2)\n",
    "print (MAE)\n",
    "print (MSE)"
   ],
   "metadata": {
    "collapsed": false
   }
  },
  {
   "cell_type": "code",
   "execution_count": 42,
   "outputs": [
    {
     "name": "stderr",
     "output_type": "stream",
     "text": [
      "/opt/anaconda3/lib/python3.11/site-packages/sklearn/linear_model/_ridge.py:216: LinAlgWarning: Ill-conditioned matrix (rcond=2.1964e-24): result may not be accurate.\n",
      "  return linalg.solve(A, Xy, assume_a=\"pos\", overwrite_a=True).T\n"
     ]
    },
    {
     "data": {
      "text/plain": "Ridge(alpha=0.5)",
      "text/html": "<style>#sk-container-id-3 {color: black;background-color: white;}#sk-container-id-3 pre{padding: 0;}#sk-container-id-3 div.sk-toggleable {background-color: white;}#sk-container-id-3 label.sk-toggleable__label {cursor: pointer;display: block;width: 100%;margin-bottom: 0;padding: 0.3em;box-sizing: border-box;text-align: center;}#sk-container-id-3 label.sk-toggleable__label-arrow:before {content: \"▸\";float: left;margin-right: 0.25em;color: #696969;}#sk-container-id-3 label.sk-toggleable__label-arrow:hover:before {color: black;}#sk-container-id-3 div.sk-estimator:hover label.sk-toggleable__label-arrow:before {color: black;}#sk-container-id-3 div.sk-toggleable__content {max-height: 0;max-width: 0;overflow: hidden;text-align: left;background-color: #f0f8ff;}#sk-container-id-3 div.sk-toggleable__content pre {margin: 0.2em;color: black;border-radius: 0.25em;background-color: #f0f8ff;}#sk-container-id-3 input.sk-toggleable__control:checked~div.sk-toggleable__content {max-height: 200px;max-width: 100%;overflow: auto;}#sk-container-id-3 input.sk-toggleable__control:checked~label.sk-toggleable__label-arrow:before {content: \"▾\";}#sk-container-id-3 div.sk-estimator input.sk-toggleable__control:checked~label.sk-toggleable__label {background-color: #d4ebff;}#sk-container-id-3 div.sk-label input.sk-toggleable__control:checked~label.sk-toggleable__label {background-color: #d4ebff;}#sk-container-id-3 input.sk-hidden--visually {border: 0;clip: rect(1px 1px 1px 1px);clip: rect(1px, 1px, 1px, 1px);height: 1px;margin: -1px;overflow: hidden;padding: 0;position: absolute;width: 1px;}#sk-container-id-3 div.sk-estimator {font-family: monospace;background-color: #f0f8ff;border: 1px dotted black;border-radius: 0.25em;box-sizing: border-box;margin-bottom: 0.5em;}#sk-container-id-3 div.sk-estimator:hover {background-color: #d4ebff;}#sk-container-id-3 div.sk-parallel-item::after {content: \"\";width: 100%;border-bottom: 1px solid gray;flex-grow: 1;}#sk-container-id-3 div.sk-label:hover label.sk-toggleable__label {background-color: #d4ebff;}#sk-container-id-3 div.sk-serial::before {content: \"\";position: absolute;border-left: 1px solid gray;box-sizing: border-box;top: 0;bottom: 0;left: 50%;z-index: 0;}#sk-container-id-3 div.sk-serial {display: flex;flex-direction: column;align-items: center;background-color: white;padding-right: 0.2em;padding-left: 0.2em;position: relative;}#sk-container-id-3 div.sk-item {position: relative;z-index: 1;}#sk-container-id-3 div.sk-parallel {display: flex;align-items: stretch;justify-content: center;background-color: white;position: relative;}#sk-container-id-3 div.sk-item::before, #sk-container-id-3 div.sk-parallel-item::before {content: \"\";position: absolute;border-left: 1px solid gray;box-sizing: border-box;top: 0;bottom: 0;left: 50%;z-index: -1;}#sk-container-id-3 div.sk-parallel-item {display: flex;flex-direction: column;z-index: 1;position: relative;background-color: white;}#sk-container-id-3 div.sk-parallel-item:first-child::after {align-self: flex-end;width: 50%;}#sk-container-id-3 div.sk-parallel-item:last-child::after {align-self: flex-start;width: 50%;}#sk-container-id-3 div.sk-parallel-item:only-child::after {width: 0;}#sk-container-id-3 div.sk-dashed-wrapped {border: 1px dashed gray;margin: 0 0.4em 0.5em 0.4em;box-sizing: border-box;padding-bottom: 0.4em;background-color: white;}#sk-container-id-3 div.sk-label label {font-family: monospace;font-weight: bold;display: inline-block;line-height: 1.2em;}#sk-container-id-3 div.sk-label-container {text-align: center;}#sk-container-id-3 div.sk-container {/* jupyter's `normalize.less` sets `[hidden] { display: none; }` but bootstrap.min.css set `[hidden] { display: none !important; }` so we also need the `!important` here to be able to override the default hidden behavior on the sphinx rendered scikit-learn.org. See: https://github.com/scikit-learn/scikit-learn/issues/21755 */display: inline-block !important;position: relative;}#sk-container-id-3 div.sk-text-repr-fallback {display: none;}</style><div id=\"sk-container-id-3\" class=\"sk-top-container\"><div class=\"sk-text-repr-fallback\"><pre>Ridge(alpha=0.5)</pre><b>In a Jupyter environment, please rerun this cell to show the HTML representation or trust the notebook. <br />On GitHub, the HTML representation is unable to render, please try loading this page with nbviewer.org.</b></div><div class=\"sk-container\" hidden><div class=\"sk-item\"><div class=\"sk-estimator sk-toggleable\"><input class=\"sk-toggleable__control sk-hidden--visually\" id=\"sk-estimator-id-3\" type=\"checkbox\" checked><label for=\"sk-estimator-id-3\" class=\"sk-toggleable__label sk-toggleable__label-arrow\">Ridge</label><div class=\"sk-toggleable__content\"><pre>Ridge(alpha=0.5)</pre></div></div></div></div></div>"
     },
     "execution_count": 42,
     "metadata": {},
     "output_type": "execute_result"
    }
   ],
   "source": [
    "# train model using whole dataset\n",
    "lasso.fit(X, y)\n",
    "ridge.fit(X,y)"
   ],
   "metadata": {
    "collapsed": false
   }
  },
  {
   "cell_type": "code",
   "execution_count": 43,
   "outputs": [
    {
     "name": "stdout",
     "output_type": "stream",
     "text": [
      "0.04224149727377109\n"
     ]
    },
    {
     "data": {
      "text/plain": "                                                    Coefficient\n ROA(C) before interest and depreciation before...         -0.0\n ROA(A) before interest and % after tax                    -0.0\n ROA(B) before interest and depreciation after tax         -0.0\n Operating Gross Margin                                    -0.0\n Realized Sales Gross Margin                               -0.0\n...                                                         ...\n Liability to Equity                                        0.0\n Degree of Financial Leverage (DFL)                         0.0\n Interest Coverage Ratio (Interest expense to E...         -0.0\n Net Income Flag                                            0.0\n Equity to Liability                                       -0.0\n\n[95 rows x 1 columns]",
      "text/html": "<div>\n<style scoped>\n    .dataframe tbody tr th:only-of-type {\n        vertical-align: middle;\n    }\n\n    .dataframe tbody tr th {\n        vertical-align: top;\n    }\n\n    .dataframe thead th {\n        text-align: right;\n    }\n</style>\n<table border=\"1\" class=\"dataframe\">\n  <thead>\n    <tr style=\"text-align: right;\">\n      <th></th>\n      <th>Coefficient</th>\n    </tr>\n  </thead>\n  <tbody>\n    <tr>\n      <th>ROA(C) before interest and depreciation before interest</th>\n      <td>-0.0</td>\n    </tr>\n    <tr>\n      <th>ROA(A) before interest and % after tax</th>\n      <td>-0.0</td>\n    </tr>\n    <tr>\n      <th>ROA(B) before interest and depreciation after tax</th>\n      <td>-0.0</td>\n    </tr>\n    <tr>\n      <th>Operating Gross Margin</th>\n      <td>-0.0</td>\n    </tr>\n    <tr>\n      <th>Realized Sales Gross Margin</th>\n      <td>-0.0</td>\n    </tr>\n    <tr>\n      <th>...</th>\n      <td>...</td>\n    </tr>\n    <tr>\n      <th>Liability to Equity</th>\n      <td>0.0</td>\n    </tr>\n    <tr>\n      <th>Degree of Financial Leverage (DFL)</th>\n      <td>0.0</td>\n    </tr>\n    <tr>\n      <th>Interest Coverage Ratio (Interest expense to EBIT)</th>\n      <td>-0.0</td>\n    </tr>\n    <tr>\n      <th>Net Income Flag</th>\n      <td>0.0</td>\n    </tr>\n    <tr>\n      <th>Equity to Liability</th>\n      <td>-0.0</td>\n    </tr>\n  </tbody>\n</table>\n<p>95 rows × 1 columns</p>\n</div>"
     },
     "execution_count": 43,
     "metadata": {},
     "output_type": "execute_result"
    }
   ],
   "source": [
    "# show the intercept of the trained model (Theta_0)\n",
    "print(lasso.intercept_)\n",
    "\n",
    "# show the coefficients of independent attributes\n",
    "coeff_df = pd.DataFrame(lasso.coef_, X.columns, columns=['Coefficient'])\n",
    "coeff_df"
   ],
   "metadata": {
    "collapsed": false
   }
  },
  {
   "cell_type": "code",
   "execution_count": 44,
   "outputs": [
    {
     "name": "stdout",
     "output_type": "stream",
     "text": [
      "0.7880007079512432\n"
     ]
    },
    {
     "data": {
      "text/plain": "                                                    Coefficient\n ROA(C) before interest and depreciation before...     0.300013\n ROA(A) before interest and % after tax                0.338594\n ROA(B) before interest and depreciation after tax    -0.516030\n Operating Gross Margin                               -0.018383\n Realized Sales Gross Margin                          -0.015230\n...                                                         ...\n Liability to Equity                                   0.158975\n Degree of Financial Leverage (DFL)                    0.031587\n Interest Coverage Ratio (Interest expense to E...    -0.027547\n Net Income Flag                                       0.000000\n Equity to Liability                                   0.175495\n\n[95 rows x 1 columns]",
      "text/html": "<div>\n<style scoped>\n    .dataframe tbody tr th:only-of-type {\n        vertical-align: middle;\n    }\n\n    .dataframe tbody tr th {\n        vertical-align: top;\n    }\n\n    .dataframe thead th {\n        text-align: right;\n    }\n</style>\n<table border=\"1\" class=\"dataframe\">\n  <thead>\n    <tr style=\"text-align: right;\">\n      <th></th>\n      <th>Coefficient</th>\n    </tr>\n  </thead>\n  <tbody>\n    <tr>\n      <th>ROA(C) before interest and depreciation before interest</th>\n      <td>0.300013</td>\n    </tr>\n    <tr>\n      <th>ROA(A) before interest and % after tax</th>\n      <td>0.338594</td>\n    </tr>\n    <tr>\n      <th>ROA(B) before interest and depreciation after tax</th>\n      <td>-0.516030</td>\n    </tr>\n    <tr>\n      <th>Operating Gross Margin</th>\n      <td>-0.018383</td>\n    </tr>\n    <tr>\n      <th>Realized Sales Gross Margin</th>\n      <td>-0.015230</td>\n    </tr>\n    <tr>\n      <th>...</th>\n      <td>...</td>\n    </tr>\n    <tr>\n      <th>Liability to Equity</th>\n      <td>0.158975</td>\n    </tr>\n    <tr>\n      <th>Degree of Financial Leverage (DFL)</th>\n      <td>0.031587</td>\n    </tr>\n    <tr>\n      <th>Interest Coverage Ratio (Interest expense to EBIT)</th>\n      <td>-0.027547</td>\n    </tr>\n    <tr>\n      <th>Net Income Flag</th>\n      <td>0.000000</td>\n    </tr>\n    <tr>\n      <th>Equity to Liability</th>\n      <td>0.175495</td>\n    </tr>\n  </tbody>\n</table>\n<p>95 rows × 1 columns</p>\n</div>"
     },
     "execution_count": 44,
     "metadata": {},
     "output_type": "execute_result"
    }
   ],
   "source": [
    "# show the intercept of the trained model (Theta_0)\n",
    "print(ridge.intercept_)\n",
    "\n",
    "# show the coefficients of independent attributes\n",
    "coeff_df = pd.DataFrame(ridge.coef_, X.columns, columns=['Coefficient'])\n",
    "coeff_df"
   ],
   "metadata": {
    "collapsed": false
   }
  },
  {
   "cell_type": "code",
   "execution_count": 46,
   "outputs": [
    {
     "ename": "ValueError",
     "evalue": "The number of FixedLocator locations (13), usually from a call to set_ticks, does not match the number of labels (95).",
     "output_type": "error",
     "traceback": [
      "\u001B[0;31m---------------------------------------------------------------------------\u001B[0m",
      "\u001B[0;31mValueError\u001B[0m                                Traceback (most recent call last)",
      "Cell \u001B[0;32mIn[46], line 12\u001B[0m\n\u001B[1;32m     10\u001B[0m \u001B[38;5;66;03m#plt.legend(fontsize=13,loc=10)\u001B[39;00m\n\u001B[1;32m     11\u001B[0m plt\u001B[38;5;241m.\u001B[39mlegend(fontsize\u001B[38;5;241m=\u001B[39m\u001B[38;5;241m14\u001B[39m, loc\u001B[38;5;241m=\u001B[39m\u001B[38;5;124m'\u001B[39m\u001B[38;5;124mcenter left\u001B[39m\u001B[38;5;124m'\u001B[39m, bbox_to_anchor\u001B[38;5;241m=\u001B[39m(\u001B[38;5;241m1\u001B[39m, \u001B[38;5;241m0.5\u001B[39m))\n\u001B[0;32m---> 12\u001B[0m plt\u001B[38;5;241m.\u001B[39mxticks(np\u001B[38;5;241m.\u001B[39marange(\u001B[38;5;241m13\u001B[39m), (features), fontsize\u001B[38;5;241m=\u001B[39m\u001B[38;5;241m10\u001B[39m)\n\u001B[1;32m     13\u001B[0m plt\u001B[38;5;241m.\u001B[39mshow()\n",
      "File \u001B[0;32m/opt/anaconda3/lib/python3.11/site-packages/matplotlib/pyplot.py:2053\u001B[0m, in \u001B[0;36mxticks\u001B[0;34m(ticks, labels, minor, **kwargs)\u001B[0m\n\u001B[1;32m   2051\u001B[0m         l\u001B[38;5;241m.\u001B[39m_internal_update(kwargs)\n\u001B[1;32m   2052\u001B[0m \u001B[38;5;28;01melse\u001B[39;00m:\n\u001B[0;32m-> 2053\u001B[0m     labels_out \u001B[38;5;241m=\u001B[39m ax\u001B[38;5;241m.\u001B[39mset_xticklabels(labels, minor\u001B[38;5;241m=\u001B[39mminor, \u001B[38;5;241m*\u001B[39m\u001B[38;5;241m*\u001B[39mkwargs)\n\u001B[1;32m   2055\u001B[0m \u001B[38;5;28;01mreturn\u001B[39;00m locs, labels_out\n",
      "File \u001B[0;32m/opt/anaconda3/lib/python3.11/site-packages/matplotlib/axes/_base.py:73\u001B[0m, in \u001B[0;36m_axis_method_wrapper.__set_name__.<locals>.wrapper\u001B[0;34m(self, *args, **kwargs)\u001B[0m\n\u001B[1;32m     72\u001B[0m \u001B[38;5;28;01mdef\u001B[39;00m \u001B[38;5;21mwrapper\u001B[39m(\u001B[38;5;28mself\u001B[39m, \u001B[38;5;241m*\u001B[39margs, \u001B[38;5;241m*\u001B[39m\u001B[38;5;241m*\u001B[39mkwargs):\n\u001B[0;32m---> 73\u001B[0m     \u001B[38;5;28;01mreturn\u001B[39;00m get_method(\u001B[38;5;28mself\u001B[39m)(\u001B[38;5;241m*\u001B[39margs, \u001B[38;5;241m*\u001B[39m\u001B[38;5;241m*\u001B[39mkwargs)\n",
      "File \u001B[0;32m/opt/anaconda3/lib/python3.11/site-packages/matplotlib/_api/deprecation.py:297\u001B[0m, in \u001B[0;36mrename_parameter.<locals>.wrapper\u001B[0;34m(*args, **kwargs)\u001B[0m\n\u001B[1;32m    292\u001B[0m     warn_deprecated(\n\u001B[1;32m    293\u001B[0m         since, message\u001B[38;5;241m=\u001B[39m\u001B[38;5;124mf\u001B[39m\u001B[38;5;124m\"\u001B[39m\u001B[38;5;124mThe \u001B[39m\u001B[38;5;132;01m{\u001B[39;00mold\u001B[38;5;132;01m!r}\u001B[39;00m\u001B[38;5;124m parameter of \u001B[39m\u001B[38;5;132;01m{\u001B[39;00mfunc\u001B[38;5;241m.\u001B[39m\u001B[38;5;18m__name__\u001B[39m\u001B[38;5;132;01m}\u001B[39;00m\u001B[38;5;124m() \u001B[39m\u001B[38;5;124m\"\u001B[39m\n\u001B[1;32m    294\u001B[0m         \u001B[38;5;124mf\u001B[39m\u001B[38;5;124m\"\u001B[39m\u001B[38;5;124mhas been renamed \u001B[39m\u001B[38;5;132;01m{\u001B[39;00mnew\u001B[38;5;132;01m!r}\u001B[39;00m\u001B[38;5;124m since Matplotlib \u001B[39m\u001B[38;5;132;01m{\u001B[39;00msince\u001B[38;5;132;01m}\u001B[39;00m\u001B[38;5;124m; support \u001B[39m\u001B[38;5;124m\"\u001B[39m\n\u001B[1;32m    295\u001B[0m         \u001B[38;5;124mf\u001B[39m\u001B[38;5;124m\"\u001B[39m\u001B[38;5;124mfor the old name will be dropped %(removal)s.\u001B[39m\u001B[38;5;124m\"\u001B[39m)\n\u001B[1;32m    296\u001B[0m     kwargs[new] \u001B[38;5;241m=\u001B[39m kwargs\u001B[38;5;241m.\u001B[39mpop(old)\n\u001B[0;32m--> 297\u001B[0m \u001B[38;5;28;01mreturn\u001B[39;00m func(\u001B[38;5;241m*\u001B[39margs, \u001B[38;5;241m*\u001B[39m\u001B[38;5;241m*\u001B[39mkwargs)\n",
      "File \u001B[0;32m/opt/anaconda3/lib/python3.11/site-packages/matplotlib/axis.py:2025\u001B[0m, in \u001B[0;36mAxis.set_ticklabels\u001B[0;34m(self, labels, minor, fontdict, **kwargs)\u001B[0m\n\u001B[1;32m   2021\u001B[0m \u001B[38;5;28;01melif\u001B[39;00m \u001B[38;5;28misinstance\u001B[39m(locator, mticker\u001B[38;5;241m.\u001B[39mFixedLocator):\n\u001B[1;32m   2022\u001B[0m     \u001B[38;5;66;03m# Passing [] as a list of labels is often used as a way to\u001B[39;00m\n\u001B[1;32m   2023\u001B[0m     \u001B[38;5;66;03m# remove all tick labels, so only error for > 0 labels\u001B[39;00m\n\u001B[1;32m   2024\u001B[0m     \u001B[38;5;28;01mif\u001B[39;00m \u001B[38;5;28mlen\u001B[39m(locator\u001B[38;5;241m.\u001B[39mlocs) \u001B[38;5;241m!=\u001B[39m \u001B[38;5;28mlen\u001B[39m(labels) \u001B[38;5;129;01mand\u001B[39;00m \u001B[38;5;28mlen\u001B[39m(labels) \u001B[38;5;241m!=\u001B[39m \u001B[38;5;241m0\u001B[39m:\n\u001B[0;32m-> 2025\u001B[0m         \u001B[38;5;28;01mraise\u001B[39;00m \u001B[38;5;167;01mValueError\u001B[39;00m(\n\u001B[1;32m   2026\u001B[0m             \u001B[38;5;124m\"\u001B[39m\u001B[38;5;124mThe number of FixedLocator locations\u001B[39m\u001B[38;5;124m\"\u001B[39m\n\u001B[1;32m   2027\u001B[0m             \u001B[38;5;124mf\u001B[39m\u001B[38;5;124m\"\u001B[39m\u001B[38;5;124m (\u001B[39m\u001B[38;5;132;01m{\u001B[39;00m\u001B[38;5;28mlen\u001B[39m(locator\u001B[38;5;241m.\u001B[39mlocs)\u001B[38;5;132;01m}\u001B[39;00m\u001B[38;5;124m), usually from a call to\u001B[39m\u001B[38;5;124m\"\u001B[39m\n\u001B[1;32m   2028\u001B[0m             \u001B[38;5;124m\"\u001B[39m\u001B[38;5;124m set_ticks, does not match\u001B[39m\u001B[38;5;124m\"\u001B[39m\n\u001B[1;32m   2029\u001B[0m             \u001B[38;5;124mf\u001B[39m\u001B[38;5;124m\"\u001B[39m\u001B[38;5;124m the number of labels (\u001B[39m\u001B[38;5;132;01m{\u001B[39;00m\u001B[38;5;28mlen\u001B[39m(labels)\u001B[38;5;132;01m}\u001B[39;00m\u001B[38;5;124m).\u001B[39m\u001B[38;5;124m\"\u001B[39m)\n\u001B[1;32m   2030\u001B[0m     tickd \u001B[38;5;241m=\u001B[39m {loc: lab \u001B[38;5;28;01mfor\u001B[39;00m loc, lab \u001B[38;5;129;01min\u001B[39;00m \u001B[38;5;28mzip\u001B[39m(locator\u001B[38;5;241m.\u001B[39mlocs, labels)}\n\u001B[1;32m   2031\u001B[0m     func \u001B[38;5;241m=\u001B[39m functools\u001B[38;5;241m.\u001B[39mpartial(\u001B[38;5;28mself\u001B[39m\u001B[38;5;241m.\u001B[39m_format_with_dict, tickd)\n",
      "\u001B[0;31mValueError\u001B[0m: The number of FixedLocator locations (13), usually from a call to set_ticks, does not match the number of labels (95)."
     ]
    },
    {
     "data": {
      "text/plain": "<Figure size 640x480 with 1 Axes>",
      "image/png": "[encoded data removed]"
     },
     "metadata": {},
     "output_type": "display_data"
    }
   ],
   "source": [
    "plt.plot(lasso.coef_,linestyle='none',marker='d',markersize=6,color='blue',label=f'Lasso; alpha = {alpha_l1}')\n",
    "\n",
    "plt.plot(ridge.coef_,linestyle='none',marker='p',markersize=6,color='green',label=f'ridge; alpha = {alpha_l2}')\n",
    "\n",
    "# draw a horizontal line at 0.\n",
    "plt.axhline(y=0, color='grey', linestyle='-')\n",
    "\n",
    "plt.xlabel('Coefficient Index',fontsize=14)\n",
    "plt.ylabel('Coefficient Magnitude',fontsize=14)\n",
    "#plt.legend(fontsize=13,loc=10)\n",
    "plt.legend(fontsize=14, loc='center left', bbox_to_anchor=(1, 0.5))\n",
    "plt.xticks(np.arange(13), (features), fontsize=10)\n",
    "plt.show()"
   ],
   "metadata": {
    "collapsed": false
   }
  },
  {
   "cell_type": "code",
   "execution_count": null,
   "outputs": [],
   "source": [],
   "metadata": {
    "collapsed": false
   }
  }
 ],
 "metadata": {
  "kernelspec": {
   "display_name": "Python 3",
   "language": "python",
   "name": "python3"
  },
  "language_info": {
   "codemirror_mode": {
    "name": "ipython",
    "version": 2
   },
   "file_extension": ".py",
   "mimetype": "text/x-python",
   "name": "python",
   "nbconvert_exporter": "python",
   "pygments_lexer": "ipython2",
   "version": "2.7.6"
  }
 },
 "nbformat": 4,
 "nbformat_minor": 0
}
