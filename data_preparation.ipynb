{
 "cells": [
  {
   "cell_type": "code",
   "execution_count": 9,
   "metadata": {
    "collapsed": true
   },
   "outputs": [],
   "source": [
    "import pandas as pd\n",
    "import numpy as np"
   ]
  },
  {
   "cell_type": "code",
   "execution_count": 10,
   "outputs": [],
   "source": [
    "df = pd.read_csv(\"data.csv\").copy()"
   ],
   "metadata": {
    "collapsed": false
   }
  },
  {
   "cell_type": "code",
   "execution_count": 22,
   "outputs": [
    {
     "name": "stderr",
     "output_type": "stream",
     "text": [
      "/opt/anaconda3/lib/python3.11/site-packages/numpy/lib/function_base.py:2897: RuntimeWarning: invalid value encountered in divide\n",
      "  c /= stddev[:, None]\n",
      "/opt/anaconda3/lib/python3.11/site-packages/numpy/lib/function_base.py:2898: RuntimeWarning: invalid value encountered in divide\n",
      "  c /= stddev[None, :]\n",
      "/opt/anaconda3/lib/python3.11/site-packages/numpy/core/fromnumeric.py:59: FutureWarning: The behavior of Series.argsort in the presence of NA values is deprecated. In a future version, NA values will be ordered last instead of set to -1.\n",
      "  return bound(*args, **kwds)\n",
      "/var/folders/86/94sn0c4x08g0vg2pd4w3glxc0000gn/T/ipykernel_5786/1377229064.py:5: FutureWarning: Series.__getitem__ treating keys as positions is deprecated. In a future version, integer keys will always be treated as labels (consistent with DataFrame behavior). To access a value by position, use `ser.iloc[pos]`\n",
      "  sorted_corr = corr[sorted_indices]\n"
     ]
    },
    {
     "data": {
      "text/plain": "                                                                                              Feature  \\\nBankrupt?                                                                                   Bankrupt?   \n Net Income to Total Assets                                                Net Income to Total Assets   \n ROA(A) before interest and % after tax                        ROA(A) before interest and % after tax   \n ROA(B) before interest and depreciation after tax   ROA(B) before interest and depreciation after...   \n ROA(C) before interest and depreciation before...   ROA(C) before interest and depreciation befor...   \n Net worth/Assets                                                                    Net worth/Assets   \n Debt ratio %                                                                            Debt ratio %   \n Persistent EPS in the Last Four Seasons                      Persistent EPS in the Last Four Seasons   \n Retained Earnings to Total Assets                                  Retained Earnings to Total Assets   \n Net profit before tax/Paid-in capital                          Net profit before tax/Paid-in capital   \n Per Share Net profit before tax (Yuan ¥)                    Per Share Net profit before tax (Yuan ¥)   \n Current Liability to Assets                                              Current Liability to Assets   \n Working Capital to Total Assets                                      Working Capital to Total Assets   \n Net Income to Stockholder's Equity                                Net Income to Stockholder's Equity   \n Borrowing dependency                                                            Borrowing dependency   \n Current Liability to Current Assets                              Current Liability to Current Assets   \n Liability to Equity                                                              Liability to Equity   \n Net Value Per Share (A)                                                      Net Value Per Share (A)   \n Net Value Per Share (B)                                                      Net Value Per Share (B)   \n Net Value Per Share (C)                                                      Net Value Per Share (C)   \n Current Liability to Equity                                              Current Liability to Equity   \n Current Liabilities/Equity                                                Current Liabilities/Equity   \n Working Capital/Equity                                                        Working Capital/Equity   \n Operating Profit Per Share (Yuan ¥)                              Operating Profit Per Share (Yuan ¥)   \n Operating profit/Paid-in capital                                    Operating profit/Paid-in capital   \n Liability-Assets Flag                                                          Liability-Assets Flag   \n Total expense/Assets                                                            Total expense/Assets   \n Equity to Long-term Liability                                          Equity to Long-term Liability   \n CFO to Assets                                                                          CFO to Assets   \n Tax rate (A)                                                                            Tax rate (A)   \n Cash/Total Assets                                                                  Cash/Total Assets   \n Gross Profit to Sales                                                          Gross Profit to Sales   \n Operating Gross Margin                                                        Operating Gross Margin   \n Realized Sales Gross Margin                                              Realized Sales Gross Margin   \n Operating profit per person                                              Operating profit per person   \n Quick Assets/Total Assets                                                  Quick Assets/Total Assets   \n Net Income Flag                                                                      Net Income Flag   \n Cash/Current Liability                                                        Cash/Current Liability   \n Cash Flow Per Share                                                              Cash Flow Per Share   \n Operating Funds to Liability                                            Operating Funds to Liability   \n Inventory and accounts receivable/Net value              Inventory and accounts receivable/Net value   \n Fixed Assets Turnover Frequency                                      Fixed Assets Turnover Frequency   \n Cash flow rate                                                                        Cash flow rate   \n Cash Flow to Total Assets                                                  Cash Flow to Total Assets   \n Contingent liabilities/Net worth                                    Contingent liabilities/Net worth   \n Total Asset Turnover                                                            Total Asset Turnover   \n Fixed Assets to Assets                                                        Fixed Assets to Assets   \n Net Value Growth Rate                                                          Net Value Growth Rate   \n\n                                                    Correlation  \nBankrupt?                                              1.000000  \n Net Income to Total Assets                           -0.315457  \n ROA(A) before interest and % after tax               -0.282941  \n ROA(B) before interest and depreciation after tax    -0.273051  \n ROA(C) before interest and depreciation before...    -0.260807  \n Net worth/Assets                                     -0.250161  \n Debt ratio %                                          0.250161  \n Persistent EPS in the Last Four Seasons              -0.219560  \n Retained Earnings to Total Assets                    -0.217779  \n Net profit before tax/Paid-in capital                -0.207857  \n Per Share Net profit before tax (Yuan ¥)             -0.201395  \n Current Liability to Assets                           0.194494  \n Working Capital to Total Assets                      -0.193083  \n Net Income to Stockholder's Equity                   -0.180987  \n Borrowing dependency                                  0.176543  \n Current Liability to Current Assets                   0.171306  \n Liability to Equity                                   0.166812  \n Net Value Per Share (A)                              -0.165465  \n Net Value Per Share (B)                              -0.165399  \n Net Value Per Share (C)                              -0.164784  \n Current Liability to Equity                           0.153828  \n Current Liabilities/Equity                            0.153828  \n Working Capital/Equity                               -0.147221  \n Operating Profit Per Share (Yuan ¥)                  -0.142051  \n Operating profit/Paid-in capital                     -0.141111  \n Liability-Assets Flag                                 0.139212  \n Total expense/Assets                                  0.139049  \n Equity to Long-term Liability                         0.139014  \n CFO to Assets                                        -0.115383  \n Tax rate (A)                                         -0.109706  \n Cash/Total Assets                                    -0.100130  \n Gross Profit to Sales                                -0.100044  \n Operating Gross Margin                               -0.100043  \n Realized Sales Gross Margin                          -0.099445  \n Operating profit per person                          -0.092842  \n Quick Assets/Total Assets                            -0.086382  \n Net Income Flag                                            NaN  \n Cash/Current Liability                                0.077921  \n Cash Flow Per Share                                  -0.077516  \n Operating Funds to Liability                         -0.077082  \n Inventory and accounts receivable/Net value           0.075278  \n Fixed Assets Turnover Frequency                       0.072818  \n Cash flow rate                                       -0.072356  \n Cash Flow to Total Assets                            -0.070456  \n Contingent liabilities/Net worth                      0.070455  \n Total Asset Turnover                                 -0.067915  \n Fixed Assets to Assets                                0.066328  \n Net Value Growth Rate                                 0.065329  ",
      "text/html": "<div>\n<style scoped>\n    .dataframe tbody tr th:only-of-type {\n        vertical-align: middle;\n    }\n\n    .dataframe tbody tr th {\n        vertical-align: top;\n    }\n\n    .dataframe thead th {\n        text-align: right;\n    }\n</style>\n<table border=\"1\" class=\"dataframe\">\n  <thead>\n    <tr style=\"text-align: right;\">\n      <th></th>\n      <th>Feature</th>\n      <th>Correlation</th>\n    </tr>\n  </thead>\n  <tbody>\n    <tr>\n      <th>Bankrupt?</th>\n      <td>Bankrupt?</td>\n      <td>1.000000</td>\n    </tr>\n    <tr>\n      <th>Net Income to Total Assets</th>\n      <td>Net Income to Total Assets</td>\n      <td>-0.315457</td>\n    </tr>\n    <tr>\n      <th>ROA(A) before interest and % after tax</th>\n      <td>ROA(A) before interest and % after tax</td>\n      <td>-0.282941</td>\n    </tr>\n    <tr>\n      <th>ROA(B) before interest and depreciation after tax</th>\n      <td>ROA(B) before interest and depreciation after...</td>\n      <td>-0.273051</td>\n    </tr>\n    <tr>\n      <th>ROA(C) before interest and depreciation before interest</th>\n      <td>ROA(C) before interest and depreciation befor...</td>\n      <td>-0.260807</td>\n    </tr>\n    <tr>\n      <th>Net worth/Assets</th>\n      <td>Net worth/Assets</td>\n      <td>-0.250161</td>\n    </tr>\n    <tr>\n      <th>Debt ratio %</th>\n      <td>Debt ratio %</td>\n      <td>0.250161</td>\n    </tr>\n    <tr>\n      <th>Persistent EPS in the Last Four Seasons</th>\n      <td>Persistent EPS in the Last Four Seasons</td>\n      <td>-0.219560</td>\n    </tr>\n    <tr>\n      <th>Retained Earnings to Total Assets</th>\n      <td>Retained Earnings to Total Assets</td>\n      <td>-0.217779</td>\n    </tr>\n    <tr>\n      <th>Net profit before tax/Paid-in capital</th>\n      <td>Net profit before tax/Paid-in capital</td>\n      <td>-0.207857</td>\n    </tr>\n    <tr>\n      <th>Per Share Net profit before tax (Yuan ¥)</th>\n      <td>Per Share Net profit before tax (Yuan ¥)</td>\n      <td>-0.201395</td>\n    </tr>\n    <tr>\n      <th>Current Liability to Assets</th>\n      <td>Current Liability to Assets</td>\n      <td>0.194494</td>\n    </tr>\n    <tr>\n      <th>Working Capital to Total Assets</th>\n      <td>Working Capital to Total Assets</td>\n      <td>-0.193083</td>\n    </tr>\n    <tr>\n      <th>Net Income to Stockholder's Equity</th>\n      <td>Net Income to Stockholder's Equity</td>\n      <td>-0.180987</td>\n    </tr>\n    <tr>\n      <th>Borrowing dependency</th>\n      <td>Borrowing dependency</td>\n      <td>0.176543</td>\n    </tr>\n    <tr>\n      <th>Current Liability to Current Assets</th>\n      <td>Current Liability to Current Assets</td>\n      <td>0.171306</td>\n    </tr>\n    <tr>\n      <th>Liability to Equity</th>\n      <td>Liability to Equity</td>\n      <td>0.166812</td>\n    </tr>\n    <tr>\n      <th>Net Value Per Share (A)</th>\n      <td>Net Value Per Share (A)</td>\n      <td>-0.165465</td>\n    </tr>\n    <tr>\n      <th>Net Value Per Share (B)</th>\n      <td>Net Value Per Share (B)</td>\n      <td>-0.165399</td>\n    </tr>\n    <tr>\n      <th>Net Value Per Share (C)</th>\n      <td>Net Value Per Share (C)</td>\n      <td>-0.164784</td>\n    </tr>\n    <tr>\n      <th>Current Liability to Equity</th>\n      <td>Current Liability to Equity</td>\n      <td>0.153828</td>\n    </tr>\n    <tr>\n      <th>Current Liabilities/Equity</th>\n      <td>Current Liabilities/Equity</td>\n      <td>0.153828</td>\n    </tr>\n    <tr>\n      <th>Working Capital/Equity</th>\n      <td>Working Capital/Equity</td>\n      <td>-0.147221</td>\n    </tr>\n    <tr>\n      <th>Operating Profit Per Share (Yuan ¥)</th>\n      <td>Operating Profit Per Share (Yuan ¥)</td>\n      <td>-0.142051</td>\n    </tr>\n    <tr>\n      <th>Operating profit/Paid-in capital</th>\n      <td>Operating profit/Paid-in capital</td>\n      <td>-0.141111</td>\n    </tr>\n    <tr>\n      <th>Liability-Assets Flag</th>\n      <td>Liability-Assets Flag</td>\n      <td>0.139212</td>\n    </tr>\n    <tr>\n      <th>Total expense/Assets</th>\n      <td>Total expense/Assets</td>\n      <td>0.139049</td>\n    </tr>\n    <tr>\n      <th>Equity to Long-term Liability</th>\n      <td>Equity to Long-term Liability</td>\n      <td>0.139014</td>\n    </tr>\n    <tr>\n      <th>CFO to Assets</th>\n      <td>CFO to Assets</td>\n      <td>-0.115383</td>\n    </tr>\n    <tr>\n      <th>Tax rate (A)</th>\n      <td>Tax rate (A)</td>\n      <td>-0.109706</td>\n    </tr>\n    <tr>\n      <th>Cash/Total Assets</th>\n      <td>Cash/Total Assets</td>\n      <td>-0.100130</td>\n    </tr>\n    <tr>\n      <th>Gross Profit to Sales</th>\n      <td>Gross Profit to Sales</td>\n      <td>-0.100044</td>\n    </tr>\n    <tr>\n      <th>Operating Gross Margin</th>\n      <td>Operating Gross Margin</td>\n      <td>-0.100043</td>\n    </tr>\n    <tr>\n      <th>Realized Sales Gross Margin</th>\n      <td>Realized Sales Gross Margin</td>\n      <td>-0.099445</td>\n    </tr>\n    <tr>\n      <th>Operating profit per person</th>\n      <td>Operating profit per person</td>\n      <td>-0.092842</td>\n    </tr>\n    <tr>\n      <th>Quick Assets/Total Assets</th>\n      <td>Quick Assets/Total Assets</td>\n      <td>-0.086382</td>\n    </tr>\n    <tr>\n      <th>Net Income Flag</th>\n      <td>Net Income Flag</td>\n      <td>NaN</td>\n    </tr>\n    <tr>\n      <th>Cash/Current Liability</th>\n      <td>Cash/Current Liability</td>\n      <td>0.077921</td>\n    </tr>\n    <tr>\n      <th>Cash Flow Per Share</th>\n      <td>Cash Flow Per Share</td>\n      <td>-0.077516</td>\n    </tr>\n    <tr>\n      <th>Operating Funds to Liability</th>\n      <td>Operating Funds to Liability</td>\n      <td>-0.077082</td>\n    </tr>\n    <tr>\n      <th>Inventory and accounts receivable/Net value</th>\n      <td>Inventory and accounts receivable/Net value</td>\n      <td>0.075278</td>\n    </tr>\n    <tr>\n      <th>Fixed Assets Turnover Frequency</th>\n      <td>Fixed Assets Turnover Frequency</td>\n      <td>0.072818</td>\n    </tr>\n    <tr>\n      <th>Cash flow rate</th>\n      <td>Cash flow rate</td>\n      <td>-0.072356</td>\n    </tr>\n    <tr>\n      <th>Cash Flow to Total Assets</th>\n      <td>Cash Flow to Total Assets</td>\n      <td>-0.070456</td>\n    </tr>\n    <tr>\n      <th>Contingent liabilities/Net worth</th>\n      <td>Contingent liabilities/Net worth</td>\n      <td>0.070455</td>\n    </tr>\n    <tr>\n      <th>Total Asset Turnover</th>\n      <td>Total Asset Turnover</td>\n      <td>-0.067915</td>\n    </tr>\n    <tr>\n      <th>Fixed Assets to Assets</th>\n      <td>Fixed Assets to Assets</td>\n      <td>0.066328</td>\n    </tr>\n    <tr>\n      <th>Net Value Growth Rate</th>\n      <td>Net Value Growth Rate</td>\n      <td>0.065329</td>\n    </tr>\n  </tbody>\n</table>\n</div>"
     },
     "execution_count": 22,
     "metadata": {},
     "output_type": "execute_result"
    }
   ],
   "source": [
    "corr = df.corrwith(df[\"Bankrupt?\"])\n",
    "abs_corr = np.abs(corr)  # Take absolute values\n",
    "sorted_indices = np.argsort(-abs_corr)  # Sort in descending order of absolute values\n",
    "\n",
    "sorted_corr = corr[sorted_indices]\n",
    "sorted_features = df.columns[sorted_indices]\n",
    "\n",
    "num_features_to_keep = int(len(sorted_features) * 0.5)  # Keep top 50%\n",
    "\n",
    "sorted_corr_top = sorted_corr[:num_features_to_keep]\n",
    "sorted_features_top = sorted_features[:num_features_to_keep]\n",
    "\n",
    "result_df = pd.DataFrame({\"Feature\": sorted_features_top, \"Correlation\": sorted_corr_top})\n",
    "new_df = df[sorted_features_top]\n",
    "new_df.to_csv(\"sorted_correlation_with_values.csv\")\n",
    "result_df"
   ],
   "metadata": {
    "collapsed": false
   }
  },
  {
   "cell_type": "code",
   "execution_count": null,
   "outputs": [],
   "source": [],
   "metadata": {
    "collapsed": false
   }
  }
 ],
 "metadata": {
  "kernelspec": {
   "display_name": "Python 3",
   "language": "python",
   "name": "python3"
  },
  "language_info": {
   "codemirror_mode": {
    "name": "ipython",
    "version": 2
   },
   "file_extension": ".py",
   "mimetype": "text/x-python",
   "name": "python",
   "nbconvert_exporter": "python",
   "pygments_lexer": "ipython2",
   "version": "2.7.6"
  }
 },
 "nbformat": 4,
 "nbformat_minor": 0
}
